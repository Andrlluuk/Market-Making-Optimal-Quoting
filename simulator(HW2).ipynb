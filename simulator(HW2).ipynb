{
 "cells": [
  {
   "cell_type": "code",
   "execution_count": 1,
   "id": "f6918d5c-fbd5-4283-aded-21dfeca21efb",
   "metadata": {
    "pycharm": {
     "name": "#%%\n"
    }
   },
   "outputs": [],
   "source": [
    "from typing import Optional, List, Tuple\n",
    "import os\n",
    "import pandas as pd\n",
    "import numpy as np\n",
    "import random\n",
    "import copy\n",
    "from scipy.stats import bernoulli\n",
    "\n",
    "from dataclasses import dataclass\n",
    "import matplotlib.pyplot as plt"
   ]
  },
  {
   "cell_type": "code",
   "execution_count": 2,
   "id": "21b139a2-b249-4683-a9ac-ed4001e96da3",
   "metadata": {},
   "outputs": [],
   "source": [
    "from collections import deque\n",
    "from queue import PriorityQueue"
   ]
  },
  {
   "cell_type": "code",
   "execution_count": 3,
   "id": "5a321baa-cf4c-4a02-a70d-f72fadf017d8",
   "metadata": {
    "pycharm": {
     "name": "#%%\n"
    }
   },
   "outputs": [],
   "source": [
    "os.chdir('../Data/md')"
   ]
  },
  {
   "cell_type": "code",
   "execution_count": 4,
   "id": "432a5338-85dc-43d0-9f81-e2049f15e395",
   "metadata": {
    "pycharm": {
     "name": "#%%\n"
    }
   },
   "outputs": [],
   "source": [
    "from tqdm.notebook import tqdm\n",
    "tqdm.pandas()"
   ]
  },
  {
   "cell_type": "code",
   "execution_count": 15,
   "id": "c4746751-ec44-41b0-a76e-05c627b71b91",
   "metadata": {},
   "outputs": [],
   "source": [
    "@dataclass\n",
    "class Order:  # Our own placed order\n",
    "    order_id: int\n",
    "    side: str\n",
    "    size: float\n",
    "    price: float\n",
    "    timestamp: float\n",
    "\n",
    "\n",
    "@dataclass\n",
    "class AnonTrade:  # Market trade\n",
    "    timestamp_exchange: int\n",
    "    timestamp_receive: int\n",
    "    side: str\n",
    "    size: float\n",
    "    price: float\n",
    "\n",
    "\n",
    "@dataclass\n",
    "class OwnTrade:  # Execution of own placed order\n",
    "    timestamp_execution: float\n",
    "    timestamp_receive: float\n",
    "    order: Order\n",
    "\n",
    "@dataclass\n",
    "class OwnTrades:\n",
    "    list_of_trades: list\n",
    "\n",
    "\n",
    "@dataclass\n",
    "class OrderbookSnapshotUpdate:  # Orderbook tick snapshot\n",
    "    timestamp_exchange: float\n",
    "    timestamp_receive: float\n",
    "    asks: List[Tuple[float, float]]  # tuple[price, size]\n",
    "    bids: List[Tuple[float, float]]\n",
    "\n",
    "\n",
    "@dataclass\n",
    "class MdUpdate:  # Data of a tick\n",
    "    timestamp_exchange: int\n",
    "    orderbook: Optional[OrderbookSnapshotUpdate] = None\n",
    "    trades: Optional[List[AnonTrade]] = None\n",
    "\n",
    "\n",
    "@dataclass\n",
    "class Action: #to place or cancel order\n",
    "    type: str\n",
    "    timestamp: float\n",
    "    order: Order\n",
    "    cancel_id: int\n",
    "\n",
    "\n",
    "@dataclass \n",
    "class Data: #class to save the data\n",
    "    orderbook: list\n",
    "    trades: list\n",
    "    timestamps: iter\n",
    "    current_timestamp = None\n",
    "    o_idx = 0\n",
    "    t_idx = 0\n",
    "\n",
    "    def get_deque(self):\n",
    "        \"\"\"\n",
    "        Build deque of MdUpdate\n",
    "        \"\"\"\n",
    "        self.deque = deque()\n",
    "        while True:\n",
    "            try:\n",
    "                self.current_timestamp = next(self.timestamps)\n",
    "                current_orderbook = []\n",
    "                current_trades = []\n",
    "                if self.o_idx != len(self.orderbook) and self.orderbook[self.o_idx].timestamp_exchange == self.current_timestamp:\n",
    "                        current_orderbook.append(self.orderbook[self.o_idx])\n",
    "                        self.o_idx += 1\n",
    "                if self.t_idx != len(self.trades) and self.trades[self.t_idx].timestamp_exchange == self.current_timestamp:\n",
    "                        current_trades.append(self.trades[self.t_idx])\n",
    "                        self.t_idx += 1\n",
    "                if (len(current_orderbook) > 0):\n",
    "                    self.deque.append(MdUpdate(self.current_timestamp, current_orderbook[-1], current_trades))\n",
    "                else:\n",
    "                    self.deque.append(MdUpdate(self.current_timestamp, None, current_trades))\n",
    "            except StopIteration:\n",
    "                break\n",
    "        return self.deque\n",
    "\n",
    "\n",
    "@dataclass\n",
    "class DataUpdate:  #DataUpdate to update values from trade/MdUpdate\n",
    "    update_type: str\n",
    "    timestamp: float\n",
    "    md_snapshot: MdUpdate\n",
    "    ask: float\n",
    "    bid: float\n",
    "\n",
    "\n",
    "def prepare_data(path: str, currency: str) -> Data:\n",
    "    \"\"\"\n",
    "    Unpacking data, and create Data class\n",
    "    \"\"\"\n",
    "    lobs = pd.read_csv(f'./{currency}usdt_Binance_LinearPerpetual/lobs.csv', skipinitialspace=True)\n",
    "    lobs = lobs[lobs.receive_ts <= 1655964000000000000]\n",
    "    trades = pd.read_csv(f'./{currency}usdt_Binance_LinearPerpetual/trades.csv', skipinitialspace=True)\n",
    "    trades = trades[trades.receive_ts <= 1655964000000000000]\n",
    "\n",
    "    lobs.exchange_ts = lobs.exchange_ts.apply(lambda x: x * 1e-6)\n",
    "    trades.exchange_ts = trades.exchange_ts.apply(lambda x: x * 1e-6)\n",
    "\n",
    "    lobs.receive_ts = lobs.receive_ts.apply(lambda x: x * 1e-6)\n",
    "    trades.receive_ts = trades.receive_ts.apply(lambda x: x * 1e-6)\n",
    "\n",
    "    lobs.rename(columns={\"size\": \"order_size\"}, inplace=True)\n",
    "    trades.rename(columns={\"size\": \"order_size\"}, inplace=True)\n",
    "\n",
    "    columns_ = lobs.columns\n",
    "    for column in columns_:\n",
    "        if 'LinearPerpetual' in column:\n",
    "            lobs.rename(columns={column: column.strip(f'{currency}usdt:Binance:LinearPerpetual')[1:]}, inplace=True)\n",
    "\n",
    "    timestamps = iter(list(sorted(pd.concat([lobs['exchange_ts'], trades['exchange_ts']], axis=0, join=\"inner\"))))\n",
    "\n",
    "    orderbooks_updates = list(lobs.progress_apply(lambda x:\n",
    "                                                  OrderbookSnapshotUpdate(\n",
    "                                                      x['exchange_ts'],\n",
    "                                                      x['receive_ts'],\n",
    "                                                      [(x[f\"ask_price_{i}\"],\n",
    "                                                        x[f\"ask_vol_{i}\"]) for i in range(10)],\n",
    "                                                      [(x[f\"bid_price_{i}\"],\n",
    "                                                        x[f\"bid_vol_{i}\"]) for i in range(10)])\n",
    "                                                  , axis=1))\n",
    "\n",
    "    own_trades = list(trades.progress_apply(lambda x:\n",
    "                                            AnonTrade(\n",
    "                                                x['exchange_ts'],\n",
    "                                                x['receive_ts'],\n",
    "                                                x['aggro_side'],\n",
    "                                                x['order_size'],\n",
    "                                                x['price']), axis=1))\n",
    "    data = Data(orderbooks_updates, own_trades, timestamps)\n",
    "    return data\n",
    "\n",
    "\n",
    "class Strategy:\n",
    "    def __init__(self, max_position: float, currency: float, active: float, t0: float) -> None:\n",
    "        self.max_position = max_position # maximal amount of active\n",
    "        self.trades = []  # all trades history\n",
    "        self.currency = currency  # amount of currency at the moment\n",
    "        self.begin_active = active  # amount of active at the t = 0\n",
    "        self.active = active  # amount of active at the moment\n",
    "        self.weight = 0.5  # bernoulli parameter\n",
    "        self.PnL = []  # Capital dynamic through the time\n",
    "        self.currency_dynamics = [] # currency dynamic through the time\n",
    "        self.active_dynamics = [] # active dynamic through the time\n",
    "        self.orders = deque() #info about our placed orders\n",
    "\n",
    "        self.current_bid = 0 # best bid price at the moment\n",
    "        self.current_ask = 0 # best ask price at the moment\n",
    "\n",
    "        self.timestamp = None\n",
    "        self.t0 = t0 #time expiration of order\n",
    "\n",
    "    def update_weight(self):\n",
    "        \"\"\"Bernoulli random value - it's parameter goes to 0 if amount of active tends to max_pos\"\"\"\n",
    "        weight = (self.max_position - self.active) / (self.max_position)\n",
    "        if weight > 1:\n",
    "            self.weight = 1\n",
    "        elif weight < 0:\n",
    "            self.weight = 0\n",
    "        else:\n",
    "            self.weight = weight\n",
    "            \n",
    "    def get_random_side(self):\n",
    "        rv = bernoulli.rvs(self.weight)\n",
    "        type_ = \"ASK\" if rv == 0 else \"BID\"\n",
    "        return type_\n",
    "\n",
    "    def run(self, sim: \"Sim\"):\n",
    "        \"\"\"Run simulator.\n",
    "        Make a tick every iteration, possible outcomes:\n",
    "        DataUpdate: randomly choose side and place order of size 0.001\"\n",
    "        OwnTrades: recalculation of Bernoulli parameter, currency and active amount\"\"\"\n",
    "        while True:\n",
    "            try:\n",
    "                timestamp, priority, update = sim.tick()\n",
    "                if update == None:\n",
    "                    break\n",
    "                self.timestamp = timestamp\n",
    "                if type(update) == DataUpdate:\n",
    "                    self.current_bid = update.bid\n",
    "                    self.current_ask = update.ask\n",
    "                    side = self.get_random_side()\n",
    "                    \n",
    "                    if side == \"BID\":\n",
    "                        new_order = sim.place_order(self.current_bid, side,\n",
    "                                    0.001)\n",
    "                    else:\n",
    "                        new_order = sim.place_order(self.current_ask, side,\n",
    "                                    0.001)\n",
    "                    self.orders.append(new_order)\n",
    "\n",
    "                    self.update_weight()\n",
    "\n",
    "                if type(update) == OwnTrades:\n",
    "                    for trade in update.list_of_trades:\n",
    "                        self.trades.append(trade)\n",
    "                        if trade.order.side == \"BID\":\n",
    "                            self.currency -= trade.order.price * trade.order.size\n",
    "                            self.active += trade.order.size\n",
    "                        else:\n",
    "                            self.currency += trade.order.price * trade.order.size\n",
    "                            self.active -= trade.order.size\n",
    "                        self.PnL.append(self.active * (self.current_ask + self.current_bid) / 2 + self.currency)\n",
    "                        self.currency_dynamics.append(self.currency)\n",
    "                        self.active_dynamics.append(self.active)\n",
    "                        \n",
    "                        self.remove_executed_orders(update.list_of_trades)\n",
    "                self.cancel_old_orders(sim)\n",
    "            except StopIteration:\n",
    "                break\n",
    "    \n",
    "    \n",
    "    def remove_executed_orders(self, trades):\n",
    "        executed_order_ids = set([trade.order.order_id for trade in trades])     \n",
    "        self.orders = deque([order for order in self.orders if order.order_id not in executed_order_ids])\n",
    "    \n",
    "    def cancel_old_orders(self, sim):\n",
    "        while self.orders[0].timestamp + self.t0 <= self.timestamp:\n",
    "            sim.cancel_order(self.orders[0].order_id)\n",
    "            self.orders.popleft()\n",
    "        \n",
    "\n",
    "\n",
    "class Sim:\n",
    "    def __init__(self, execution_latency: float, md_latency: float) -> None:\n",
    "\n",
    "        self.data = prepare_data(\"./random/location/md.csv\", \"btc\") #class of Data for simulation\n",
    "\n",
    "        self.md_queue = self.data.get_deque() #Market data queue\n",
    "        self.actions_queue = deque() #Actions queue(actually action is a placing or cancelling the order\n",
    "        self.strategy_updates_queue = PriorityQueue() #Stratrgy updates queue\n",
    "        self.execution_latency = execution_latency #from strategy to execution\n",
    "        self.md_latency = md_latency #from exchange to strategy\n",
    "\n",
    "        self.id_gen = 0 #id_generator for orders\n",
    "        self.trade_id_gen = 0 #id_generator for trade\n",
    "        self.current_md = None #saves current market data\n",
    "        self.best_ask = 0 #best ask price at the moment\n",
    "        self.best_bid = 0 #best bid price at the moment\n",
    "        self.orders = [] #currently active(waiting for) orders\n",
    "        self.timestamp = None #current timestamp of simulator\n",
    "\n",
    "    def get_update(self):\n",
    "        \"\"\" \n",
    "        Here we try to find MdUpdate or Action before StrategyUpdate\n",
    "        \"\"\"\n",
    "        queue_of_updates = PriorityQueue()\n",
    "        if len(self.md_queue) > 0:\n",
    "            queue_of_updates.put((self.md_queue[0].timestamp_exchange, \"MdUpdate\"))\n",
    "        if len(self.actions_queue) > 0:\n",
    "            queue_of_updates.put((self.actions_queue[0].timestamp, \"Action\"))\n",
    "        if self.strategy_updates_queue.qsize() > 0:\n",
    "            queue_of_updates.put((self.strategy_updates_queue.queue[0][0], \"StrategyUpdate\"))\n",
    "\n",
    "        if queue_of_updates.qsize() == 0:\n",
    "            return None, None\n",
    "        else:\n",
    "            return queue_of_updates.queue[0][0], queue_of_updates.queue[0][1]\n",
    "\n",
    "    def tick(self) -> MdUpdate:\n",
    "        \"\"\"\n",
    "        Tick of simulator:\n",
    "        Possible outcomes of earlies update:\n",
    "        - MdUpdate: update prices from data(from orderbook/from trade), put update on the strategy queue, \n",
    "        execute ready orders at this moment\n",
    "        - Action: prepare and execute orders(actually place/cancel order)\n",
    "        - StrategyUpdate: return update to the strategy\n",
    "        \"\"\"\n",
    "        timestamp, update = self.get_update()\n",
    "        self.timestamp = timestamp\n",
    "        while update != \"StrategyUpdate\":\n",
    "            if (update == \"MdUpdate\"):\n",
    "                m = self.md_queue[0]\n",
    "                if (m.orderbook != None):\n",
    "                    self.best_ask = m.orderbook.asks[0][0]\n",
    "                    self.best_bid = m.orderbook.bids[0][0]\n",
    "                    self.strategy_updates_queue.put((m.orderbook.timestamp_receive, self.trade_id_gen,\n",
    "                                                     DataUpdate(\"ORDERBOOK\", m.orderbook.timestamp_receive,\n",
    "                                                                m.orderbook,\n",
    "                                                                self.best_ask,\n",
    "                                                                self.best_bid)))\n",
    "                    self.trade_id_gen += 1\n",
    "                    self.execute_orders()\n",
    "                else:\n",
    "                    if (len(m.trades) != 0):\n",
    "                        for trade in m.trades:\n",
    "                            if trade.side == 'BID':\n",
    "                                self.best_ask = trade.price\n",
    "                            else:\n",
    "                                self.best_bid = trade.price\n",
    "                            self.strategy_updates_queue.put((trade.timestamp_receive, self.trade_id_gen,\n",
    "                                                         DataUpdate(\"TRADES\", trade.timestamp_receive,\n",
    "                                                                    m.trades,\n",
    "                                                                    self.best_ask,\n",
    "                                                                    self.best_bid)))\n",
    "                            self.trade_id_gen += 1\n",
    "                            self.execute_orders()\n",
    "                self.md_queue.popleft()\n",
    "\n",
    "            elif (update == \"Action\"):\n",
    "                self.prepare_orders()\n",
    "                self.execute_orders()\n",
    "                self.actions_queue.popleft()\n",
    "\n",
    "            timestamp, update = self.get_update()\n",
    "            self.timestamp = timestamp\n",
    "\n",
    "            if update == None:\n",
    "                return None, None, None\n",
    "\n",
    "        if (self.strategy_updates_queue.qsize() > 0):\n",
    "            update = self.strategy_updates_queue.get()\n",
    "        else:\n",
    "            update = (None, None, None)\n",
    "        return update\n",
    "\n",
    "    def prepare_orders(self):\n",
    "        \"\"\"\n",
    "        Check if order is to be placed/cancelled and if put: check if doesn't intersect with other side\n",
    "        \"\"\"\n",
    "        action = self.actions_queue[0]\n",
    "        if action.type == \"PUT\":\n",
    "            if action.order.side == \"BID\" and self.best_ask > action.order.price:\n",
    "                self.orders.append(action.order)\n",
    "            if action.order.side == \"ASK\" and self.best_bid < action.order.price:\n",
    "                self.orders.append(action.order)\n",
    "        if action.type == \"CANCEL\":\n",
    "            self.orders = [order for order in self.orders if order.order_id != action.cancel_id]\n",
    "\n",
    "    def execute_orders(self):\n",
    "        \"\"\"\n",
    "        Go through orders and send list of executed orders to strategy_queue\n",
    "        \"\"\"\n",
    "        remove_orders = list()\n",
    "        owntrades_list = list()\n",
    "        for order in self.orders:\n",
    "            if (order.side == 'BID') and (order.price >= self.best_ask):\n",
    "                remove_orders.append(order)\n",
    "                owntrades_list.append(OwnTrade(timestamp_execution=self.timestamp,\n",
    "                                               timestamp_receive=self.timestamp + self.md_latency,\n",
    "                                                order = order))\n",
    "            if (order.side == 'ASK') and (order.price <= self.best_bid):\n",
    "                remove_orders.append(order)\n",
    "                owntrades_list.append(OwnTrade(timestamp_execution=self.timestamp,\n",
    "                                               timestamp_receive=self.timestamp + self.md_latency,\n",
    "                                               order=order))\n",
    "        if (len(owntrades_list) > 0):\n",
    "            self.strategy_updates_queue.put((self.timestamp + self.md_latency, self.trade_id_gen, OwnTrades(owntrades_list)))\n",
    "            self.trade_id_gen += 1\n",
    "            self.orders = [order for order in self.orders if order not in remove_orders]\n",
    "\n",
    "    def place_order(self, price, side, size):\n",
    "        \"\"\"\n",
    "        Choose side of order and put actions into the actions_queue\n",
    "        \"\"\"\n",
    "        new_order = Order(self.id_gen, side, size, price, self.timestamp)\n",
    "        self.id_gen += 1\n",
    "        self.actions_queue.append(Action(timestamp=self.timestamp + self.execution_latency,\n",
    "                                         type=\"PUT\",\n",
    "                                         order=new_order,\n",
    "                                         cancel_id=None))\n",
    "        return new_order\n",
    "\n",
    "    def cancel_order(self, order_id):\n",
    "        \"\"\"\n",
    "        Put cancellation action into the action_queue\n",
    "        \"\"\"\n",
    "        self.actions_queue.append(Action(timestamp=self.timestamp + self.execution_latency,\n",
    "                                         type=\"CANCEL\",\n",
    "                                         order=None,\n",
    "                                         cancel_id=order_id))"
   ]
  },
  {
   "cell_type": "code",
   "execution_count": 23,
   "id": "3169aa1b-ec88-4d6d-aa25-8d6fd231a4cd",
   "metadata": {
    "pycharm": {
     "name": "#%%\n"
    },
    "tags": []
   },
   "outputs": [
    {
     "data": {
      "application/vnd.jupyter.widget-view+json": {
       "model_id": "eff4219e561c47a28ccb386c7753ba31",
       "version_major": 2,
       "version_minor": 0
      },
      "text/plain": [
       "  0%|          | 0/636464 [00:00<?, ?it/s]"
      ]
     },
     "metadata": {},
     "output_type": "display_data"
    },
    {
     "data": {
      "application/vnd.jupyter.widget-view+json": {
       "model_id": "190cd7271ce7448bb90b45c934269340",
       "version_major": 2,
       "version_minor": 0
      },
      "text/plain": [
       "  0%|          | 0/1217295 [00:00<?, ?it/s]"
      ]
     },
     "metadata": {},
     "output_type": "display_data"
    }
   ],
   "source": [
    "strategy = Strategy(4, 0, 1, 2000)\n",
    "sim = Sim(10, 15)\n",
    "strategy.run(sim)"
   ]
  },
  {
   "cell_type": "code",
   "execution_count": 24,
   "id": "1483dba1-6b38-4974-a646-c0abb9839038",
   "metadata": {},
   "outputs": [
    {
     "data": {
      "text/plain": [
       "[<matplotlib.lines.Line2D at 0x7fc842902850>]"
      ]
     },
     "execution_count": 24,
     "metadata": {},
     "output_type": "execute_result"
    },
    {
     "data": {
      "image/png": "[encoded data removed]",
      "text/plain": [
       "<Figure size 432x288 with 1 Axes>"
      ]
     },
     "metadata": {
      "needs_background": "light"
     },
     "output_type": "display_data"
    }
   ],
   "source": [
    "plt.plot(strategy.PnL)"
   ]
  },
  {
   "cell_type": "code",
   "execution_count": 25,
   "id": "2a80487f-30ff-4ca0-8364-c7aac23a7693",
   "metadata": {},
   "outputs": [
    {
     "data": {
      "text/plain": [
       "[<matplotlib.lines.Line2D at 0x7fc84273fa30>]"
      ]
     },
     "execution_count": 25,
     "metadata": {},
     "output_type": "execute_result"
    },
    {
     "data": {
      "image/png": "[encoded data removed]",
      "text/plain": [
       "<Figure size 432x288 with 1 Axes>"
      ]
     },
     "metadata": {
      "needs_background": "light"
     },
     "output_type": "display_data"
    }
   ],
   "source": [
    "plt.plot(strategy.currency_dynamics)"
   ]
  },
  {
   "cell_type": "code",
   "execution_count": 26,
   "id": "4e3197de-962f-463d-96c2-4529f878c7c9",
   "metadata": {},
   "outputs": [
    {
     "data": {
      "text/plain": [
       "[<matplotlib.lines.Line2D at 0x7fc8512e2e80>]"
      ]
     },
     "execution_count": 26,
     "metadata": {},
     "output_type": "execute_result"
    },
    {
     "data": {
      "image/png": "[encoded data removed]",
      "text/plain": [
       "<Figure size 432x288 with 1 Axes>"
      ]
     },
     "metadata": {
      "needs_background": "light"
     },
     "output_type": "display_data"
    }
   ],
   "source": [
    "plt.plot(strategy.active_dynamics)"
   ]
  },
  {
   "cell_type": "code",
   "execution_count": null,
   "id": "5d004333-0b4b-4e15-8f9d-7c6a680b3cbb",
   "metadata": {},
   "outputs": [],
   "source": []
  }
 ],
 "metadata": {
  "kernelspec": {
   "display_name": "Python 3 (ipykernel)",
   "language": "python",
   "name": "python3"
  },
  "language_info": {
   "codemirror_mode": {
    "name": "ipython",
    "version": 3
   },
   "file_extension": ".py",
   "mimetype": "text/x-python",
   "name": "python",
   "nbconvert_exporter": "python",
   "pygments_lexer": "ipython3",
   "version": "3.9.7"
  }
 },
 "nbformat": 4,
 "nbformat_minor": 5
}
